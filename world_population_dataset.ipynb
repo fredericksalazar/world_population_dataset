{
 "cells": [
  {
   "cell_type": "markdown",
   "metadata": {},
   "source": [
    "# NoteBook Ingest dataset World Population from World Bank\n",
    "\n",
    "***Author:*** Frederick Salazar <br>\n",
    "***Date:*** December 2024<br>\n",
    "***Data Source:*** https://datos.bancomundial.org/indicador/SP.POP.TOTL <br>\n",
    "***Description:*** This notebook is created to donwload and process data of open dataset taht contains data about world population since 1060 to 2023, this dataset is a public data from world bank.\n"
   ]
  },
  {
   "cell_type": "markdown",
   "metadata": {},
   "source": [
    "## Importations and configurations"
   ]
  },
  {
   "cell_type": "code",
   "execution_count": 1,
   "metadata": {},
   "outputs": [],
   "source": [
    "#library importations\n",
    "\n",
    "import pandas as pd\n",
    "\n",
    "import os\n",
    "import requests\n",
    "import zipfile\n",
    "from io import BytesIO"
   ]
  },
  {
   "cell_type": "code",
   "execution_count": 2,
   "metadata": {},
   "outputs": [],
   "source": [
    "#paths\n",
    "\n",
    "data_source_in = 'https://api.worldbank.org/v2/es/indicator/SP.POP.TOTL?downloadformat=csv'\n",
    "data_source_out = './open_data'\n",
    "\n",
    "#name of files\n",
    "world_data = 'API_SP.POP.TOTL'\n",
    "metadata = 'Metadata_Country_API_SP.POP.TOTL'"
   ]
  },
  {
   "cell_type": "markdown",
   "metadata": {},
   "source": [
    "## Download and read data"
   ]
  },
  {
   "cell_type": "code",
   "execution_count": 3,
   "metadata": {},
   "outputs": [],
   "source": [
    "response = requests.get(data_source_in)\n",
    "\n",
    "if response.status_code == 200:\n",
    "    # Leer el contenido del archivo ZIP en memoria\n",
    "    zip_file = BytesIO(response.content)\n",
    "    \n",
    "    # Descomprimir el contenido del ZIP directamente en el directorio\n",
    "    with zipfile.ZipFile(zip_file) as z:\n",
    "        z.extractall(data_source_out)"
   ]
  },
  {
   "cell_type": "code",
   "execution_count": 4,
   "metadata": {},
   "outputs": [],
   "source": [
    "#read files\n",
    "\n",
    "for file in os.listdir(data_source_out):\n",
    "    if file.startswith(world_data):\n",
    "        df_world_data = pd.read_csv(data_source_out+'/'+file,\n",
    "                                    sep=',',\n",
    "                                    skiprows=3)\n",
    "    elif file.startswith(metadata):\n",
    "        df_metadata = pd.read_csv(data_source_out+'/'+file,\n",
    "                          sep=',')"
   ]
  },
  {
   "cell_type": "markdown",
   "metadata": {},
   "source": [
    "## Transformation data"
   ]
  },
  {
   "cell_type": "code",
   "execution_count": 5,
   "metadata": {},
   "outputs": [
    {
     "name": "stderr",
     "output_type": "stream",
     "text": [
      "/var/folders/34/mqqssx0s7jd53nv2vzj0plc00000gn/T/ipykernel_28094/3756038061.py:3: FutureWarning: DataFrame.applymap has been deprecated. Use DataFrame.map instead.\n",
      "  df_world_data = df_world_data.applymap(lambda x: x.upper() if isinstance(x, str) else x)\n",
      "/var/folders/34/mqqssx0s7jd53nv2vzj0plc00000gn/T/ipykernel_28094/3756038061.py:5: FutureWarning: DataFrame.applymap has been deprecated. Use DataFrame.map instead.\n",
      "  df_metadata = df_metadata.applymap(lambda x: x.upper() if isinstance(x,str) else x)\n"
     ]
    }
   ],
   "source": [
    "#all string columns in upper\n",
    "\n",
    "df_world_data = df_world_data.applymap(lambda x: x.upper() if isinstance(x, str) else x)\n",
    "\n",
    "df_metadata = df_metadata.applymap(lambda x: x.upper() if isinstance(x,str) else x)"
   ]
  },
  {
   "cell_type": "code",
   "execution_count": 6,
   "metadata": {},
   "outputs": [],
   "source": [
    "df_metadata = df_metadata[['Country Code',\n",
    "                           'Region',\n",
    "                           'Income_Group']]"
   ]
  },
  {
   "cell_type": "code",
   "execution_count": 7,
   "metadata": {},
   "outputs": [],
   "source": [
    "df_world_data = df_world_data.merge(df_metadata,\n",
    "                                    on = 'Country Code',\n",
    "                                    how='inner')"
   ]
  },
  {
   "cell_type": "code",
   "execution_count": 8,
   "metadata": {},
   "outputs": [],
   "source": [
    "df_world_data = df_world_data[['Country Code',\n",
    "                               'Country Name',\n",
    "                               'Region',\n",
    "                               'Income_Group',\n",
    "                               '1960', '1961', '1962', '1963', '1964', '1965',\n",
    "                               '1966', '1967', '1968', '1969', '1970', '1971',\n",
    "                               '1972', '1973', '1974', '1975', '1976', '1977',\n",
    "                               '1978', '1979', '1980', '1981', '1982', '1983', \n",
    "                               '1984', '1985', '1986', '1987', '1988', '1989', \n",
    "                               '1990', '1991', '1992', '1993', '1994', '1995',\n",
    "                               '1996', '1997', '1998', '1999', '2000', '2001',\n",
    "                               '2002', '2003', '2004', '2005', '2006', '2007', \n",
    "                               '2008', '2009', '2010', '2011', '2012', '2013',\n",
    "                               '2014', '2015', '2016', '2017', '2018', '2019',\n",
    "                               '2020', '2021', '2022', '2023']]"
   ]
  },
  {
   "cell_type": "code",
   "execution_count": 9,
   "metadata": {},
   "outputs": [],
   "source": [
    "df_world_data.rename(columns={'Country Code':'country_code',\n",
    "                              'Country Name':'country_name',\n",
    "                              'Region' : 'region',\n",
    "                              'Income_Group' : 'income_group'},\n",
    "                     inplace = True)"
   ]
  },
  {
   "cell_type": "code",
   "execution_count": 13,
   "metadata": {},
   "outputs": [
    {
     "data": {
      "text/html": [
       "<div>\n",
       "<style scoped>\n",
       "    .dataframe tbody tr th:only-of-type {\n",
       "        vertical-align: middle;\n",
       "    }\n",
       "\n",
       "    .dataframe tbody tr th {\n",
       "        vertical-align: top;\n",
       "    }\n",
       "\n",
       "    .dataframe thead th {\n",
       "        text-align: right;\n",
       "    }\n",
       "</style>\n",
       "<table border=\"1\" class=\"dataframe\">\n",
       "  <thead>\n",
       "    <tr style=\"text-align: right;\">\n",
       "      <th></th>\n",
       "      <th>country_code</th>\n",
       "      <th>country_name</th>\n",
       "      <th>region</th>\n",
       "      <th>income_group</th>\n",
       "      <th>1960</th>\n",
       "      <th>1961</th>\n",
       "      <th>1962</th>\n",
       "      <th>1963</th>\n",
       "      <th>1964</th>\n",
       "      <th>1965</th>\n",
       "      <th>...</th>\n",
       "      <th>2014</th>\n",
       "      <th>2015</th>\n",
       "      <th>2016</th>\n",
       "      <th>2017</th>\n",
       "      <th>2018</th>\n",
       "      <th>2019</th>\n",
       "      <th>2020</th>\n",
       "      <th>2021</th>\n",
       "      <th>2022</th>\n",
       "      <th>2023</th>\n",
       "    </tr>\n",
       "  </thead>\n",
       "  <tbody>\n",
       "    <tr>\n",
       "      <th>0</th>\n",
       "      <td>ABW</td>\n",
       "      <td>ARUBA</td>\n",
       "      <td>NaN</td>\n",
       "      <td>INGRESO ALTO</td>\n",
       "      <td>54608.0</td>\n",
       "      <td>55811.0</td>\n",
       "      <td>56682.0</td>\n",
       "      <td>57475.0</td>\n",
       "      <td>58178.0</td>\n",
       "      <td>58782.0</td>\n",
       "      <td>...</td>\n",
       "      <td>103594.0</td>\n",
       "      <td>104257.0</td>\n",
       "      <td>104874.0</td>\n",
       "      <td>105439.0</td>\n",
       "      <td>105962.0</td>\n",
       "      <td>106442.0</td>\n",
       "      <td>106585.0</td>\n",
       "      <td>106537.0</td>\n",
       "      <td>106445.0</td>\n",
       "      <td>106277.0</td>\n",
       "    </tr>\n",
       "    <tr>\n",
       "      <th>1</th>\n",
       "      <td>AFE</td>\n",
       "      <td>NaN</td>\n",
       "      <td>NaN</td>\n",
       "      <td>AGREGADOS</td>\n",
       "      <td>130692579.0</td>\n",
       "      <td>134169237.0</td>\n",
       "      <td>137835590.0</td>\n",
       "      <td>141630546.0</td>\n",
       "      <td>145605995.0</td>\n",
       "      <td>149742351.0</td>\n",
       "      <td>...</td>\n",
       "      <td>583651101.0</td>\n",
       "      <td>600008424.0</td>\n",
       "      <td>616377605.0</td>\n",
       "      <td>632746570.0</td>\n",
       "      <td>649757148.0</td>\n",
       "      <td>667242986.0</td>\n",
       "      <td>685112979.0</td>\n",
       "      <td>702977106.0</td>\n",
       "      <td>720859132.0</td>\n",
       "      <td>739108306.0</td>\n",
       "    </tr>\n",
       "    <tr>\n",
       "      <th>2</th>\n",
       "      <td>AFG</td>\n",
       "      <td>AFGANISTÁN</td>\n",
       "      <td>ASIA MERIDIONAL</td>\n",
       "      <td>PAÍSES DE INGRESO BAJO</td>\n",
       "      <td>8622466.0</td>\n",
       "      <td>8790140.0</td>\n",
       "      <td>8969047.0</td>\n",
       "      <td>9157465.0</td>\n",
       "      <td>9355514.0</td>\n",
       "      <td>9565147.0</td>\n",
       "      <td>...</td>\n",
       "      <td>32716210.0</td>\n",
       "      <td>33753499.0</td>\n",
       "      <td>34636207.0</td>\n",
       "      <td>35643418.0</td>\n",
       "      <td>36686784.0</td>\n",
       "      <td>37769499.0</td>\n",
       "      <td>38972230.0</td>\n",
       "      <td>40099462.0</td>\n",
       "      <td>41128771.0</td>\n",
       "      <td>42239854.0</td>\n",
       "    </tr>\n",
       "    <tr>\n",
       "      <th>3</th>\n",
       "      <td>AFW</td>\n",
       "      <td>NaN</td>\n",
       "      <td>NaN</td>\n",
       "      <td>AGREGADOS</td>\n",
       "      <td>97256290.0</td>\n",
       "      <td>99314028.0</td>\n",
       "      <td>101445032.0</td>\n",
       "      <td>103667517.0</td>\n",
       "      <td>105959979.0</td>\n",
       "      <td>108336203.0</td>\n",
       "      <td>...</td>\n",
       "      <td>397855507.0</td>\n",
       "      <td>408690375.0</td>\n",
       "      <td>419778384.0</td>\n",
       "      <td>431138704.0</td>\n",
       "      <td>442646825.0</td>\n",
       "      <td>454306063.0</td>\n",
       "      <td>466189102.0</td>\n",
       "      <td>478185907.0</td>\n",
       "      <td>490330870.0</td>\n",
       "      <td>502789511.0</td>\n",
       "    </tr>\n",
       "    <tr>\n",
       "      <th>4</th>\n",
       "      <td>AGO</td>\n",
       "      <td>ANGOLA</td>\n",
       "      <td>ÁFRICA AL SUR DEL SAHARA (EXCLUIDO ALTOS INGRE...</td>\n",
       "      <td>PAÍSES DE INGRESO MEDIANO BAJO</td>\n",
       "      <td>5357195.0</td>\n",
       "      <td>5441333.0</td>\n",
       "      <td>5521400.0</td>\n",
       "      <td>5599827.0</td>\n",
       "      <td>5673199.0</td>\n",
       "      <td>5736582.0</td>\n",
       "      <td>...</td>\n",
       "      <td>27128337.0</td>\n",
       "      <td>28127721.0</td>\n",
       "      <td>29154746.0</td>\n",
       "      <td>30208628.0</td>\n",
       "      <td>31273533.0</td>\n",
       "      <td>32353588.0</td>\n",
       "      <td>33428486.0</td>\n",
       "      <td>34503774.0</td>\n",
       "      <td>35588987.0</td>\n",
       "      <td>36684202.0</td>\n",
       "    </tr>\n",
       "  </tbody>\n",
       "</table>\n",
       "<p>5 rows × 68 columns</p>\n",
       "</div>"
      ],
      "text/plain": [
       "  country_code country_name  \\\n",
       "0          ABW        ARUBA   \n",
       "1          AFE          NaN   \n",
       "2          AFG   AFGANISTÁN   \n",
       "3          AFW          NaN   \n",
       "4          AGO       ANGOLA   \n",
       "\n",
       "                                              region  \\\n",
       "0                                                NaN   \n",
       "1                                                NaN   \n",
       "2                                    ASIA MERIDIONAL   \n",
       "3                                                NaN   \n",
       "4  ÁFRICA AL SUR DEL SAHARA (EXCLUIDO ALTOS INGRE...   \n",
       "\n",
       "                     income_group         1960         1961         1962  \\\n",
       "0                    INGRESO ALTO      54608.0      55811.0      56682.0   \n",
       "1                       AGREGADOS  130692579.0  134169237.0  137835590.0   \n",
       "2          PAÍSES DE INGRESO BAJO    8622466.0    8790140.0    8969047.0   \n",
       "3                       AGREGADOS   97256290.0   99314028.0  101445032.0   \n",
       "4  PAÍSES DE INGRESO MEDIANO BAJO    5357195.0    5441333.0    5521400.0   \n",
       "\n",
       "          1963         1964         1965  ...         2014         2015  \\\n",
       "0      57475.0      58178.0      58782.0  ...     103594.0     104257.0   \n",
       "1  141630546.0  145605995.0  149742351.0  ...  583651101.0  600008424.0   \n",
       "2    9157465.0    9355514.0    9565147.0  ...   32716210.0   33753499.0   \n",
       "3  103667517.0  105959979.0  108336203.0  ...  397855507.0  408690375.0   \n",
       "4    5599827.0    5673199.0    5736582.0  ...   27128337.0   28127721.0   \n",
       "\n",
       "          2016         2017         2018         2019         2020  \\\n",
       "0     104874.0     105439.0     105962.0     106442.0     106585.0   \n",
       "1  616377605.0  632746570.0  649757148.0  667242986.0  685112979.0   \n",
       "2   34636207.0   35643418.0   36686784.0   37769499.0   38972230.0   \n",
       "3  419778384.0  431138704.0  442646825.0  454306063.0  466189102.0   \n",
       "4   29154746.0   30208628.0   31273533.0   32353588.0   33428486.0   \n",
       "\n",
       "          2021         2022         2023  \n",
       "0     106537.0     106445.0     106277.0  \n",
       "1  702977106.0  720859132.0  739108306.0  \n",
       "2   40099462.0   41128771.0   42239854.0  \n",
       "3  478185907.0  490330870.0  502789511.0  \n",
       "4   34503774.0   35588987.0   36684202.0  \n",
       "\n",
       "[5 rows x 68 columns]"
      ]
     },
     "execution_count": 13,
     "metadata": {},
     "output_type": "execute_result"
    }
   ],
   "source": [
    "df_world_data.head()"
   ]
  },
  {
   "cell_type": "markdown",
   "metadata": {},
   "source": [
    "## Exportation data"
   ]
  },
  {
   "cell_type": "code",
   "execution_count": 11,
   "metadata": {},
   "outputs": [],
   "source": [
    "df_world_data.to_csv('./open_data/data_population_world.csv',\n",
    "                     sep=',',\n",
    "                     index=False)"
   ]
  }
 ],
 "metadata": {
  "kernelspec": {
   "display_name": "data_analyst",
   "language": "python",
   "name": "python3"
  },
  "language_info": {
   "codemirror_mode": {
    "name": "ipython",
    "version": 3
   },
   "file_extension": ".py",
   "mimetype": "text/x-python",
   "name": "python",
   "nbconvert_exporter": "python",
   "pygments_lexer": "ipython3",
   "version": "3.10.16"
  }
 },
 "nbformat": 4,
 "nbformat_minor": 2
}
