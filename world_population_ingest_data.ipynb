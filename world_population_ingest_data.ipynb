{
 "cells": [
  {
   "cell_type": "markdown",
   "metadata": {},
   "source": [
    "# NoteBook Ingest dataset World Population from World Bank\n",
    "\n",
    "***Author:*** Frederick Salazar <br>\n",
    "***Date:*** December 2024<br>\n",
    "***Data Source:*** https://datos.bancomundial.org/indicador/SP.POP.TOTL <br>\n",
    "***Description:*** This notebook is created to donwload and process data of open dataset taht contains data about world population since 1060 to 2023, this dataset is a public data from world bank.\n"
   ]
  },
  {
   "cell_type": "markdown",
   "metadata": {},
   "source": [
    "## Importations and configurations"
   ]
  },
  {
   "cell_type": "code",
   "execution_count": 67,
   "metadata": {},
   "outputs": [],
   "source": [
    "#library importations\n",
    "\n",
    "import pandas as pd\n",
    "\n",
    "import os\n",
    "import requests\n",
    "import zipfile\n",
    "from io import BytesIO"
   ]
  },
  {
   "cell_type": "code",
   "execution_count": 1,
   "metadata": {},
   "outputs": [],
   "source": [
    "#paths\n",
    "\n",
    "data_source_in = 'https://api.worldbank.org/v2/es/indicator/SP.POP.TOTL?downloadformat=csv'\n",
    "data_source_out = './open_data'\n",
    "\n",
    "#name of files\n",
    "world_data = 'API_SP.POP.TOTL'\n",
    "metadata = 'Metadata_Country_API_SP.POP.TOTL'"
   ]
  },
  {
   "cell_type": "markdown",
   "metadata": {},
   "source": [
    "## Download and read data"
   ]
  },
  {
   "cell_type": "code",
   "execution_count": 69,
   "metadata": {},
   "outputs": [],
   "source": [
    "response = requests.get(data_source_in)\n",
    "\n",
    "if response.status_code == 200:\n",
    "    # Leer el contenido del archivo ZIP en memoria\n",
    "    zip_file = BytesIO(response.content)\n",
    "    \n",
    "    # Descomprimir el contenido del ZIP directamente en el directorio\n",
    "    with zipfile.ZipFile(zip_file) as z:\n",
    "        z.extractall(data_source_out)"
   ]
  },
  {
   "cell_type": "code",
   "execution_count": 70,
   "metadata": {},
   "outputs": [],
   "source": [
    "#read files\n",
    "\n",
    "for file in os.listdir(data_source_out):\n",
    "    if file.startswith(world_data):\n",
    "        df_world_data = pd.read_csv(data_source_out+'/'+file,\n",
    "                                    sep=',',\n",
    "                                    skiprows=3)\n",
    "    elif file.startswith(metadata):\n",
    "        df_metadata = pd.read_csv(data_source_out+'/'+file,\n",
    "                          sep=',')"
   ]
  },
  {
   "cell_type": "markdown",
   "metadata": {},
   "source": [
    "## Transformation data"
   ]
  },
  {
   "cell_type": "code",
   "execution_count": 71,
   "metadata": {},
   "outputs": [
    {
     "name": "stderr",
     "output_type": "stream",
     "text": [
      "/var/folders/34/mqqssx0s7jd53nv2vzj0plc00000gn/T/ipykernel_12228/3756038061.py:3: FutureWarning: DataFrame.applymap has been deprecated. Use DataFrame.map instead.\n",
      "  df_world_data = df_world_data.applymap(lambda x: x.upper() if isinstance(x, str) else x)\n",
      "/var/folders/34/mqqssx0s7jd53nv2vzj0plc00000gn/T/ipykernel_12228/3756038061.py:5: FutureWarning: DataFrame.applymap has been deprecated. Use DataFrame.map instead.\n",
      "  df_metadata = df_metadata.applymap(lambda x: x.upper() if isinstance(x,str) else x)\n"
     ]
    }
   ],
   "source": [
    "#all string columns in upper\n",
    "\n",
    "df_world_data = df_world_data.applymap(lambda x: x.upper() if isinstance(x, str) else x)\n",
    "\n",
    "df_metadata = df_metadata.applymap(lambda x: x.upper() if isinstance(x,str) else x)"
   ]
  },
  {
   "cell_type": "code",
   "execution_count": 72,
   "metadata": {},
   "outputs": [],
   "source": [
    "df_metadata = df_metadata[['Country Code',\n",
    "                           'Region',\n",
    "                           'Income_Group']]"
   ]
  },
  {
   "cell_type": "code",
   "execution_count": 73,
   "metadata": {},
   "outputs": [],
   "source": [
    "df_world_data = df_world_data.merge(df_metadata,\n",
    "                                    on = 'Country Code',\n",
    "                                    how='inner')"
   ]
  },
  {
   "cell_type": "code",
   "execution_count": 74,
   "metadata": {},
   "outputs": [],
   "source": [
    "df_world_data = df_world_data[['Country Code',\n",
    "                               'Country Name',\n",
    "                               'Region',\n",
    "                               'Income_Group',\n",
    "                               '1960', '1961', '1962', '1963', '1964', '1965',\n",
    "                               '1966', '1967', '1968', '1969', '1970', '1971',\n",
    "                               '1972', '1973', '1974', '1975', '1976', '1977',\n",
    "                               '1978', '1979', '1980', '1981', '1982', '1983', \n",
    "                               '1984', '1985', '1986', '1987', '1988', '1989', \n",
    "                               '1990', '1991', '1992', '1993', '1994', '1995',\n",
    "                               '1996', '1997', '1998', '1999', '2000', '2001',\n",
    "                               '2002', '2003', '2004', '2005', '2006', '2007', \n",
    "                               '2008', '2009', '2010', '2011', '2012', '2013',\n",
    "                               '2014', '2015', '2016', '2017', '2018', '2019',\n",
    "                               '2020', '2021', '2022', '2023']]"
   ]
  },
  {
   "cell_type": "code",
   "execution_count": 75,
   "metadata": {},
   "outputs": [],
   "source": [
    "df_world_data.rename(columns={'Country Code':'country_code',\n",
    "                              'Country Name':'country_name',\n",
    "                              'Region' : 'region',\n",
    "                              'Income_Group' : 'income_group'},\n",
    "                     inplace = True)"
   ]
  },
  {
   "cell_type": "markdown",
   "metadata": {},
   "source": [
    "## Exportation data"
   ]
  },
  {
   "cell_type": "code",
   "execution_count": 76,
   "metadata": {},
   "outputs": [],
   "source": [
    "df_world_data.to_csv('./open_data/data_population_world.csv',\n",
    "                     sep=',',\n",
    "                     index=False)"
   ]
  }
 ],
 "metadata": {
  "kernelspec": {
   "display_name": "data_analyst",
   "language": "python",
   "name": "python3"
  },
  "language_info": {
   "codemirror_mode": {
    "name": "ipython",
    "version": 3
   },
   "file_extension": ".py",
   "mimetype": "text/x-python",
   "name": "python",
   "nbconvert_exporter": "python",
   "pygments_lexer": "ipython3",
   "version": "3.10.16"
  }
 },
 "nbformat": 4,
 "nbformat_minor": 2
}
